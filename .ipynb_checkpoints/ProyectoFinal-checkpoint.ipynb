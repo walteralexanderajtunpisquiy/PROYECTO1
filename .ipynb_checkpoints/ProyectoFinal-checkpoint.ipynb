{
 "cells": [
  {
   "cell_type": "markdown",
   "id": "c3bcd1eb-048e-41ac-ab0e-621877a5d132",
   "metadata": {},
   "source": [
    "## Proyecto 1 \n",
    "Alumno: Walter Alexander Ajtun Pisquiy"
   ]
  },
  {
   "cell_type": "markdown",
   "id": "3c4daae7-83f6-4b96-9594-77b33a447662",
   "metadata": {
    "tags": []
   },
   "source": [
    "## 1.  Crear un entorno de anaconda con los paquetes que considere necesarios."
   ]
  },
  {
   "cell_type": "code",
   "execution_count": 2,
   "id": "dc6b495f-70f3-453a-9463-28faa1f19a0e",
   "metadata": {
    "tags": []
   },
   "outputs": [],
   "source": [
    "#Cargamos librerias\n",
    "import numpy as np\n",
    "import pandas as pd\n",
    "import seaborn as sns\n",
    "import matplotlib.pyplot as plt\n",
    "import matplotlib.style as style\n"
   ]
  },
  {
   "cell_type": "code",
   "execution_count": 3,
   "id": "1e4d8272-a74c-467b-b51d-d1fa3edbf1ed",
   "metadata": {
    "tags": []
   },
   "outputs": [
    {
     "name": "stdout",
     "output_type": "stream",
     "text": [
      "[[2.08500e+05 7.00000e+00 8.56000e+02 8.00000e+00 2.00300e+03 6.50000e+01]\n",
      " [1.81500e+05 6.00000e+00 1.26200e+03 6.00000e+00 1.97600e+03 8.00000e+01]\n",
      " [2.23500e+05 7.00000e+00 9.20000e+02 6.00000e+00 2.00100e+03 6.80000e+01]\n",
      " ...\n",
      " [2.66500e+05 7.00000e+00 1.18800e+03 9.00000e+00 1.94100e+03 6.60000e+01]\n",
      " [1.42125e+05 5.00000e+00 1.07800e+03 5.00000e+00 1.95000e+03 6.80000e+01]\n",
      " [1.47500e+05 5.00000e+00 1.25600e+03 6.00000e+00 1.96500e+03 7.50000e+01]]\n"
     ]
    }
   ],
   "source": [
    "#Cargamos Data\n",
    "datos = np.load('proyecto_training_data.npy')\n",
    "print (datos)"
   ]
  },
  {
   "cell_type": "code",
   "execution_count": 4,
   "id": "45bd5fdc-e3a4-482f-854e-cf2a68db6175",
   "metadata": {
    "tags": []
   },
   "outputs": [
    {
     "data": {
      "text/html": [
       "<div>\n",
       "<style scoped>\n",
       "    .dataframe tbody tr th:only-of-type {\n",
       "        vertical-align: middle;\n",
       "    }\n",
       "\n",
       "    .dataframe tbody tr th {\n",
       "        vertical-align: top;\n",
       "    }\n",
       "\n",
       "    .dataframe thead th {\n",
       "        text-align: right;\n",
       "    }\n",
       "</style>\n",
       "<table border=\"1\" class=\"dataframe\">\n",
       "  <thead>\n",
       "    <tr style=\"text-align: right;\">\n",
       "      <th></th>\n",
       "      <th>SalePrice</th>\n",
       "      <th>OverallQual</th>\n",
       "      <th>1stFlrSF</th>\n",
       "      <th>TotRmsAbvGrd</th>\n",
       "      <th>YearBuilt</th>\n",
       "      <th>LotFrontage</th>\n",
       "    </tr>\n",
       "  </thead>\n",
       "  <tbody>\n",
       "    <tr>\n",
       "      <th>0</th>\n",
       "      <td>208500.0</td>\n",
       "      <td>7.0</td>\n",
       "      <td>856.0</td>\n",
       "      <td>8.0</td>\n",
       "      <td>2003.0</td>\n",
       "      <td>65.0</td>\n",
       "    </tr>\n",
       "    <tr>\n",
       "      <th>1</th>\n",
       "      <td>181500.0</td>\n",
       "      <td>6.0</td>\n",
       "      <td>1262.0</td>\n",
       "      <td>6.0</td>\n",
       "      <td>1976.0</td>\n",
       "      <td>80.0</td>\n",
       "    </tr>\n",
       "    <tr>\n",
       "      <th>2</th>\n",
       "      <td>223500.0</td>\n",
       "      <td>7.0</td>\n",
       "      <td>920.0</td>\n",
       "      <td>6.0</td>\n",
       "      <td>2001.0</td>\n",
       "      <td>68.0</td>\n",
       "    </tr>\n",
       "    <tr>\n",
       "      <th>3</th>\n",
       "      <td>140000.0</td>\n",
       "      <td>7.0</td>\n",
       "      <td>961.0</td>\n",
       "      <td>7.0</td>\n",
       "      <td>1915.0</td>\n",
       "      <td>60.0</td>\n",
       "    </tr>\n",
       "    <tr>\n",
       "      <th>4</th>\n",
       "      <td>250000.0</td>\n",
       "      <td>8.0</td>\n",
       "      <td>1145.0</td>\n",
       "      <td>9.0</td>\n",
       "      <td>2000.0</td>\n",
       "      <td>84.0</td>\n",
       "    </tr>\n",
       "  </tbody>\n",
       "</table>\n",
       "</div>"
      ],
      "text/plain": [
       "   SalePrice  OverallQual  1stFlrSF  TotRmsAbvGrd  YearBuilt  LotFrontage\n",
       "0   208500.0          7.0     856.0           8.0     2003.0         65.0\n",
       "1   181500.0          6.0    1262.0           6.0     1976.0         80.0\n",
       "2   223500.0          7.0     920.0           6.0     2001.0         68.0\n",
       "3   140000.0          7.0     961.0           7.0     1915.0         60.0\n",
       "4   250000.0          8.0    1145.0           9.0     2000.0         84.0"
      ]
     },
     "execution_count": 4,
     "metadata": {},
     "output_type": "execute_result"
    }
   ],
   "source": [
    "datos = np.load('proyecto_training_data.npy')\n",
    "df = pd.DataFrame(datos)\n",
    "df.columns =   ['SalePrice', 'OverallQual', '1stFlrSF', 'TotRmsAbvGrd', 'YearBuilt', 'LotFrontage']\n",
    "df.head()"
   ]
  },
  {
   "cell_type": "code",
   "execution_count": 5,
   "id": "9d3fb14e-a03e-4c24-90e3-fc9e56e5a589",
   "metadata": {
    "tags": []
   },
   "outputs": [
    {
     "data": {
      "text/html": [
       "<div>\n",
       "<style scoped>\n",
       "    .dataframe tbody tr th:only-of-type {\n",
       "        vertical-align: middle;\n",
       "    }\n",
       "\n",
       "    .dataframe tbody tr th {\n",
       "        vertical-align: top;\n",
       "    }\n",
       "\n",
       "    .dataframe thead th {\n",
       "        text-align: right;\n",
       "    }\n",
       "</style>\n",
       "<table border=\"1\" class=\"dataframe\">\n",
       "  <thead>\n",
       "    <tr style=\"text-align: right;\">\n",
       "      <th></th>\n",
       "      <th>0</th>\n",
       "      <th>1</th>\n",
       "      <th>2</th>\n",
       "      <th>3</th>\n",
       "      <th>4</th>\n",
       "      <th>5</th>\n",
       "    </tr>\n",
       "  </thead>\n",
       "  <tbody>\n",
       "    <tr>\n",
       "      <th>0</th>\n",
       "      <td>208500.0</td>\n",
       "      <td>7.0</td>\n",
       "      <td>856.0</td>\n",
       "      <td>8.0</td>\n",
       "      <td>2003.0</td>\n",
       "      <td>65.0</td>\n",
       "    </tr>\n",
       "    <tr>\n",
       "      <th>1</th>\n",
       "      <td>181500.0</td>\n",
       "      <td>6.0</td>\n",
       "      <td>1262.0</td>\n",
       "      <td>6.0</td>\n",
       "      <td>1976.0</td>\n",
       "      <td>80.0</td>\n",
       "    </tr>\n",
       "    <tr>\n",
       "      <th>2</th>\n",
       "      <td>223500.0</td>\n",
       "      <td>7.0</td>\n",
       "      <td>920.0</td>\n",
       "      <td>6.0</td>\n",
       "      <td>2001.0</td>\n",
       "      <td>68.0</td>\n",
       "    </tr>\n",
       "    <tr>\n",
       "      <th>3</th>\n",
       "      <td>140000.0</td>\n",
       "      <td>7.0</td>\n",
       "      <td>961.0</td>\n",
       "      <td>7.0</td>\n",
       "      <td>1915.0</td>\n",
       "      <td>60.0</td>\n",
       "    </tr>\n",
       "    <tr>\n",
       "      <th>4</th>\n",
       "      <td>250000.0</td>\n",
       "      <td>8.0</td>\n",
       "      <td>1145.0</td>\n",
       "      <td>9.0</td>\n",
       "      <td>2000.0</td>\n",
       "      <td>84.0</td>\n",
       "    </tr>\n",
       "    <tr>\n",
       "      <th>...</th>\n",
       "      <td>...</td>\n",
       "      <td>...</td>\n",
       "      <td>...</td>\n",
       "      <td>...</td>\n",
       "      <td>...</td>\n",
       "      <td>...</td>\n",
       "    </tr>\n",
       "    <tr>\n",
       "      <th>1455</th>\n",
       "      <td>175000.0</td>\n",
       "      <td>6.0</td>\n",
       "      <td>953.0</td>\n",
       "      <td>7.0</td>\n",
       "      <td>1999.0</td>\n",
       "      <td>62.0</td>\n",
       "    </tr>\n",
       "    <tr>\n",
       "      <th>1456</th>\n",
       "      <td>210000.0</td>\n",
       "      <td>6.0</td>\n",
       "      <td>2073.0</td>\n",
       "      <td>7.0</td>\n",
       "      <td>1978.0</td>\n",
       "      <td>85.0</td>\n",
       "    </tr>\n",
       "    <tr>\n",
       "      <th>1457</th>\n",
       "      <td>266500.0</td>\n",
       "      <td>7.0</td>\n",
       "      <td>1188.0</td>\n",
       "      <td>9.0</td>\n",
       "      <td>1941.0</td>\n",
       "      <td>66.0</td>\n",
       "    </tr>\n",
       "    <tr>\n",
       "      <th>1458</th>\n",
       "      <td>142125.0</td>\n",
       "      <td>5.0</td>\n",
       "      <td>1078.0</td>\n",
       "      <td>5.0</td>\n",
       "      <td>1950.0</td>\n",
       "      <td>68.0</td>\n",
       "    </tr>\n",
       "    <tr>\n",
       "      <th>1459</th>\n",
       "      <td>147500.0</td>\n",
       "      <td>5.0</td>\n",
       "      <td>1256.0</td>\n",
       "      <td>6.0</td>\n",
       "      <td>1965.0</td>\n",
       "      <td>75.0</td>\n",
       "    </tr>\n",
       "  </tbody>\n",
       "</table>\n",
       "<p>1460 rows × 6 columns</p>\n",
       "</div>"
      ],
      "text/plain": [
       "             0    1       2    3       4     5\n",
       "0     208500.0  7.0   856.0  8.0  2003.0  65.0\n",
       "1     181500.0  6.0  1262.0  6.0  1976.0  80.0\n",
       "2     223500.0  7.0   920.0  6.0  2001.0  68.0\n",
       "3     140000.0  7.0   961.0  7.0  1915.0  60.0\n",
       "4     250000.0  8.0  1145.0  9.0  2000.0  84.0\n",
       "...        ...  ...     ...  ...     ...   ...\n",
       "1455  175000.0  6.0   953.0  7.0  1999.0  62.0\n",
       "1456  210000.0  6.0  2073.0  7.0  1978.0  85.0\n",
       "1457  266500.0  7.0  1188.0  9.0  1941.0  66.0\n",
       "1458  142125.0  5.0  1078.0  5.0  1950.0  68.0\n",
       "1459  147500.0  5.0  1256.0  6.0  1965.0  75.0\n",
       "\n",
       "[1460 rows x 6 columns]"
      ]
     },
     "execution_count": 5,
     "metadata": {},
     "output_type": "execute_result"
    }
   ],
   "source": [
    "datos = np.load('proyecto_training_data.npy')\n",
    "df = pd.DataFrame(datos)\n",
    "df"
   ]
  },
  {
   "cell_type": "markdown",
   "id": "a69ca6f7-0f82-42f0-a79c-ac23bab68d2c",
   "metadata": {},
   "source": [
    "## 2. Usando sclicing con NumPy separar los datos en 2 datasets: entrenamiento(80%) y validacion y pruebas(20%)."
   ]
  },
  {
   "cell_type": "code",
   "execution_count": 6,
   "id": "ed319891-5925-404c-b18d-e6d880bf14ad",
   "metadata": {
    "tags": []
   },
   "outputs": [],
   "source": [
    "# Obtener la cantidad total de filas en los datos\n",
    "total_filas = datos.shape[0]\n",
    "\n",
    "# Calculamos el número de filas para el conjunto de entrenamiento (80%)\n",
    "filas_entrenamiento = int(0.8 * total_filas)\n",
    "\n",
    "# Obtenemos los datos de entrenamiento\n",
    "datos_entrenamiento = datos[:filas_entrenamiento]\n",
    "\n",
    "# Obtenemos los datos de validación y pruebas\n",
    "datos_validacion_pruebas = datos[filas_entrenamiento:]\n"
   ]
  },
  {
   "cell_type": "markdown",
   "id": "0bc5a454-cd7d-4613-94a7-b4668287c63e",
   "metadata": {
    "tags": []
   },
   "source": [
    "## 3"
   ]
  },
  {
   "cell_type": "code",
   "execution_count": null,
   "id": "9405823d-aa83-4b26-89ce-c4877b769f0d",
   "metadata": {
    "tags": []
   },
   "outputs": [],
   "source": []
  },
  {
   "cell_type": "markdown",
   "id": "b0cb3ebd-f56f-46a7-a1a4-53c6f1ceab34",
   "metadata": {},
   "source": [
    "### 4.\tPara  cada  variable  en  el  dataset  usar  seaborn(funcion  distplot  https://seaborn.pydata. org/generated/seaborn.distplot.html) para graficar un histograma de la variable."
   ]
  },
  {
   "cell_type": "code",
   "execution_count": null,
   "id": "da5f8959-90ae-4f7c-b480-d9e989622413",
   "metadata": {
    "tags": []
   },
   "outputs": [],
   "source": []
  },
  {
   "cell_type": "markdown",
   "id": "af8f8519-6e1b-4b4d-b814-9e1a9a480f1f",
   "metadata": {
    "tags": []
   },
   "source": [
    "## 5. Para cada variable independiente x :\n",
    "Calcular el coeficiente de correlaci´on entre x y y.\n",
    "Graficar x vs y(scatterplot) usando matplotlib.\n",
    "Colocar el coeficiente de correlaci´on y colocarlo como parte del t´ıtulo de la gr´afica.\n",
    "Basado en la gr´afica y el coeficiente de correlaci´on de cada par x,y elegir las 2 variables\n",
    "con m´as potencial predictivo es decir las 2 variables que presentan mayor correlaci´on\n",
    "entre dicha variable y la variable dependiente."
   ]
  },
  {
   "cell_type": "code",
   "execution_count": null,
   "id": "7be90e32-6b15-4ea5-adbd-8d60efd4936d",
   "metadata": {
    "tags": []
   },
   "outputs": [],
   "source": []
  },
  {
   "cell_type": "markdown",
   "id": "528dbc1b-0267-4549-982a-0ddd3ce27819",
   "metadata": {},
   "source": []
  },
  {
   "cell_type": "code",
   "execution_count": null,
   "id": "ee1bc792-c15b-4875-959c-9fea8c70e3bb",
   "metadata": {},
   "outputs": [],
   "source": []
  }
 ],
 "metadata": {
  "kernelspec": {
   "display_name": "Python 3 (ipykernel)",
   "language": "python",
   "name": "python3"
  },
  "language_info": {
   "codemirror_mode": {
    "name": "ipython",
    "version": 3
   },
   "file_extension": ".py",
   "mimetype": "text/x-python",
   "name": "python",
   "nbconvert_exporter": "python",
   "pygments_lexer": "ipython3",
   "version": "3.11.5"
  }
 },
 "nbformat": 4,
 "nbformat_minor": 5
}
